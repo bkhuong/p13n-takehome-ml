{
 "cells": [
  {
   "cell_type": "markdown",
   "metadata": {},
   "source": [
    "**Packages used:**"
   ]
  },
  {
   "cell_type": "code",
   "execution_count": 1,
   "metadata": {
    "ExecuteTime": {
     "end_time": "2019-05-20T00:16:20.435163Z",
     "start_time": "2019-05-20T00:16:19.373968Z"
    }
   },
   "outputs": [],
   "source": [
    "import pandas as pd\n",
    "import matplotlib.pyplot as plt\n",
    "import numpy as np\n",
    "import seaborn as sns\n",
    "\n",
    "from sklearn.linear_model import LogisticRegression\n",
    "from sklearn.ensemble import GradientBoostingClassifier\n",
    "from sklearn.ensemble import RandomForestClassifier\n",
    "from sklearn.metrics import log_loss\n",
    "from sklearn.model_selection import train_test_split\n",
    "from sklearn.preprocessing import StandardScaler"
   ]
  },
  {
   "cell_type": "markdown",
   "metadata": {},
   "source": [
    "# Overview"
   ]
  },
  {
   "cell_type": "markdown",
   "metadata": {},
   "source": [
    "This notebook is a walkthrough of my process for predicting the CTR probabilities for the O' Reilley data challenge."
   ]
  },
  {
   "cell_type": "markdown",
   "metadata": {},
   "source": [
    "# Table of Contents\n",
    "\n",
    "1. Data Summary\n",
    "2. Evaluation Metric \n",
    "3. EDA\n",
    "4. Train / Test  Split \n",
    "5. Feature Engineering\n",
    "6. Feature Selection\n",
    "7. Models\n",
    "8. Conclusion \n",
    "9. Final Predictions"
   ]
  },
  {
   "cell_type": "markdown",
   "metadata": {},
   "source": [
    "# Data Summary"
   ]
  },
  {
   "cell_type": "code",
   "execution_count": 2,
   "metadata": {
    "ExecuteTime": {
     "end_time": "2019-05-20T00:16:23.726144Z",
     "start_time": "2019-05-20T00:16:20.437005Z"
    }
   },
   "outputs": [],
   "source": [
    "data = pd.read_csv('data/sampled_training')"
   ]
  },
  {
   "cell_type": "code",
   "execution_count": 3,
   "metadata": {
    "ExecuteTime": {
     "end_time": "2019-05-20T00:16:24.423151Z",
     "start_time": "2019-05-20T00:16:23.729429Z"
    }
   },
   "outputs": [
    {
     "name": "stdout",
     "output_type": "stream",
     "text": [
      "<class 'pandas.core.frame.DataFrame'>\n",
      "RangeIndex: 843502 entries, 0 to 843501\n",
      "Data columns (total 24 columns):\n",
      "id                  843502 non-null uint64\n",
      "click               843502 non-null int64\n",
      "hour                843502 non-null int64\n",
      "C1                  843502 non-null int64\n",
      "banner_pos          843502 non-null int64\n",
      "site_id             843502 non-null object\n",
      "site_domain         843502 non-null object\n",
      "site_category       843502 non-null object\n",
      "app_id              843502 non-null object\n",
      "app_domain          843502 non-null object\n",
      "app_category        843502 non-null object\n",
      "device_id           843502 non-null object\n",
      "device_ip           843502 non-null object\n",
      "device_model        843502 non-null object\n",
      "device_type         843502 non-null int64\n",
      "device_conn_type    843502 non-null int64\n",
      "C14                 843502 non-null int64\n",
      "C15                 843502 non-null int64\n",
      "C16                 843502 non-null int64\n",
      "C17                 843502 non-null int64\n",
      "C18                 843502 non-null int64\n",
      "C19                 843502 non-null int64\n",
      "C20                 843502 non-null int64\n",
      "C21                 843502 non-null int64\n",
      "dtypes: int64(14), object(9), uint64(1)\n",
      "memory usage: 154.4+ MB\n"
     ]
    }
   ],
   "source": [
    "data.info()"
   ]
  },
  {
   "cell_type": "code",
   "execution_count": 4,
   "metadata": {
    "ExecuteTime": {
     "end_time": "2019-05-20T00:16:25.050203Z",
     "start_time": "2019-05-20T00:16:24.426222Z"
    }
   },
   "outputs": [
    {
     "data": {
      "text/html": [
       "<div>\n",
       "<style scoped>\n",
       "    .dataframe tbody tr th:only-of-type {\n",
       "        vertical-align: middle;\n",
       "    }\n",
       "\n",
       "    .dataframe tbody tr th {\n",
       "        vertical-align: top;\n",
       "    }\n",
       "\n",
       "    .dataframe thead th {\n",
       "        text-align: right;\n",
       "    }\n",
       "</style>\n",
       "<table border=\"1\" class=\"dataframe\">\n",
       "  <thead>\n",
       "    <tr style=\"text-align: right;\">\n",
       "      <th></th>\n",
       "      <th>id</th>\n",
       "      <th>click</th>\n",
       "      <th>hour</th>\n",
       "      <th>C1</th>\n",
       "      <th>banner_pos</th>\n",
       "      <th>device_type</th>\n",
       "      <th>device_conn_type</th>\n",
       "      <th>C14</th>\n",
       "      <th>C15</th>\n",
       "      <th>C16</th>\n",
       "      <th>C17</th>\n",
       "      <th>C18</th>\n",
       "      <th>C19</th>\n",
       "      <th>C20</th>\n",
       "      <th>C21</th>\n",
       "    </tr>\n",
       "  </thead>\n",
       "  <tbody>\n",
       "    <tr>\n",
       "      <th>count</th>\n",
       "      <td>8.435020e+05</td>\n",
       "      <td>843502.000000</td>\n",
       "      <td>8.435020e+05</td>\n",
       "      <td>843502.000000</td>\n",
       "      <td>843502.000000</td>\n",
       "      <td>843502.000000</td>\n",
       "      <td>843502.000000</td>\n",
       "      <td>843502.000000</td>\n",
       "      <td>843502.000000</td>\n",
       "      <td>843502.000000</td>\n",
       "      <td>843502.000000</td>\n",
       "      <td>843502.000000</td>\n",
       "      <td>843502.000000</td>\n",
       "      <td>843502.000000</td>\n",
       "      <td>843502.000000</td>\n",
       "    </tr>\n",
       "    <tr>\n",
       "      <th>mean</th>\n",
       "      <td>9.231625e+18</td>\n",
       "      <td>0.170271</td>\n",
       "      <td>1.410250e+07</td>\n",
       "      <td>1004.959553</td>\n",
       "      <td>0.293501</td>\n",
       "      <td>1.016934</td>\n",
       "      <td>0.330417</td>\n",
       "      <td>18560.262501</td>\n",
       "      <td>318.861537</td>\n",
       "      <td>60.286297</td>\n",
       "      <td>2077.663483</td>\n",
       "      <td>1.443956</td>\n",
       "      <td>217.741979</td>\n",
       "      <td>54155.776171</td>\n",
       "      <td>79.551913</td>\n",
       "    </tr>\n",
       "    <tr>\n",
       "      <th>std</th>\n",
       "      <td>5.325619e+18</td>\n",
       "      <td>0.375871</td>\n",
       "      <td>2.684486e+02</td>\n",
       "      <td>1.132949</td>\n",
       "      <td>0.515961</td>\n",
       "      <td>0.553377</td>\n",
       "      <td>0.854515</td>\n",
       "      <td>5007.778987</td>\n",
       "      <td>21.730624</td>\n",
       "      <td>47.965820</td>\n",
       "      <td>610.749820</td>\n",
       "      <td>1.323114</td>\n",
       "      <td>342.722108</td>\n",
       "      <td>49887.241496</td>\n",
       "      <td>66.999613</td>\n",
       "    </tr>\n",
       "    <tr>\n",
       "      <th>min</th>\n",
       "      <td>1.308118e+13</td>\n",
       "      <td>0.000000</td>\n",
       "      <td>1.410210e+07</td>\n",
       "      <td>1001.000000</td>\n",
       "      <td>0.000000</td>\n",
       "      <td>0.000000</td>\n",
       "      <td>0.000000</td>\n",
       "      <td>375.000000</td>\n",
       "      <td>120.000000</td>\n",
       "      <td>20.000000</td>\n",
       "      <td>112.000000</td>\n",
       "      <td>0.000000</td>\n",
       "      <td>33.000000</td>\n",
       "      <td>-1.000000</td>\n",
       "      <td>1.000000</td>\n",
       "    </tr>\n",
       "    <tr>\n",
       "      <th>25%</th>\n",
       "      <td>4.622961e+18</td>\n",
       "      <td>0.000000</td>\n",
       "      <td>1.410222e+07</td>\n",
       "      <td>1005.000000</td>\n",
       "      <td>0.000000</td>\n",
       "      <td>1.000000</td>\n",
       "      <td>0.000000</td>\n",
       "      <td>16688.000000</td>\n",
       "      <td>320.000000</td>\n",
       "      <td>50.000000</td>\n",
       "      <td>1800.000000</td>\n",
       "      <td>0.000000</td>\n",
       "      <td>35.000000</td>\n",
       "      <td>-1.000000</td>\n",
       "      <td>23.000000</td>\n",
       "    </tr>\n",
       "    <tr>\n",
       "      <th>50%</th>\n",
       "      <td>9.238306e+18</td>\n",
       "      <td>0.000000</td>\n",
       "      <td>1.410251e+07</td>\n",
       "      <td>1005.000000</td>\n",
       "      <td>0.000000</td>\n",
       "      <td>1.000000</td>\n",
       "      <td>0.000000</td>\n",
       "      <td>20108.000000</td>\n",
       "      <td>320.000000</td>\n",
       "      <td>50.000000</td>\n",
       "      <td>2295.000000</td>\n",
       "      <td>2.000000</td>\n",
       "      <td>39.000000</td>\n",
       "      <td>100057.000000</td>\n",
       "      <td>52.000000</td>\n",
       "    </tr>\n",
       "    <tr>\n",
       "      <th>75%</th>\n",
       "      <td>1.384568e+19</td>\n",
       "      <td>0.000000</td>\n",
       "      <td>1.410272e+07</td>\n",
       "      <td>1005.000000</td>\n",
       "      <td>1.000000</td>\n",
       "      <td>1.000000</td>\n",
       "      <td>0.000000</td>\n",
       "      <td>21768.000000</td>\n",
       "      <td>320.000000</td>\n",
       "      <td>50.000000</td>\n",
       "      <td>2506.000000</td>\n",
       "      <td>3.000000</td>\n",
       "      <td>167.000000</td>\n",
       "      <td>100084.000000</td>\n",
       "      <td>91.000000</td>\n",
       "    </tr>\n",
       "    <tr>\n",
       "      <th>max</th>\n",
       "      <td>1.844669e+19</td>\n",
       "      <td>1.000000</td>\n",
       "      <td>1.410300e+07</td>\n",
       "      <td>1012.000000</td>\n",
       "      <td>7.000000</td>\n",
       "      <td>5.000000</td>\n",
       "      <td>5.000000</td>\n",
       "      <td>23836.000000</td>\n",
       "      <td>1024.000000</td>\n",
       "      <td>1024.000000</td>\n",
       "      <td>2729.000000</td>\n",
       "      <td>3.000000</td>\n",
       "      <td>1839.000000</td>\n",
       "      <td>100248.000000</td>\n",
       "      <td>253.000000</td>\n",
       "    </tr>\n",
       "  </tbody>\n",
       "</table>\n",
       "</div>"
      ],
      "text/plain": [
       "                 id          click          hour             C1  \\\n",
       "count  8.435020e+05  843502.000000  8.435020e+05  843502.000000   \n",
       "mean   9.231625e+18       0.170271  1.410250e+07    1004.959553   \n",
       "std    5.325619e+18       0.375871  2.684486e+02       1.132949   \n",
       "min    1.308118e+13       0.000000  1.410210e+07    1001.000000   \n",
       "25%    4.622961e+18       0.000000  1.410222e+07    1005.000000   \n",
       "50%    9.238306e+18       0.000000  1.410251e+07    1005.000000   \n",
       "75%    1.384568e+19       0.000000  1.410272e+07    1005.000000   \n",
       "max    1.844669e+19       1.000000  1.410300e+07    1012.000000   \n",
       "\n",
       "          banner_pos    device_type  device_conn_type            C14  \\\n",
       "count  843502.000000  843502.000000     843502.000000  843502.000000   \n",
       "mean        0.293501       1.016934          0.330417   18560.262501   \n",
       "std         0.515961       0.553377          0.854515    5007.778987   \n",
       "min         0.000000       0.000000          0.000000     375.000000   \n",
       "25%         0.000000       1.000000          0.000000   16688.000000   \n",
       "50%         0.000000       1.000000          0.000000   20108.000000   \n",
       "75%         1.000000       1.000000          0.000000   21768.000000   \n",
       "max         7.000000       5.000000          5.000000   23836.000000   \n",
       "\n",
       "                 C15            C16            C17            C18  \\\n",
       "count  843502.000000  843502.000000  843502.000000  843502.000000   \n",
       "mean      318.861537      60.286297    2077.663483       1.443956   \n",
       "std        21.730624      47.965820     610.749820       1.323114   \n",
       "min       120.000000      20.000000     112.000000       0.000000   \n",
       "25%       320.000000      50.000000    1800.000000       0.000000   \n",
       "50%       320.000000      50.000000    2295.000000       2.000000   \n",
       "75%       320.000000      50.000000    2506.000000       3.000000   \n",
       "max      1024.000000    1024.000000    2729.000000       3.000000   \n",
       "\n",
       "                 C19            C20            C21  \n",
       "count  843502.000000  843502.000000  843502.000000  \n",
       "mean      217.741979   54155.776171      79.551913  \n",
       "std       342.722108   49887.241496      66.999613  \n",
       "min        33.000000      -1.000000       1.000000  \n",
       "25%        35.000000      -1.000000      23.000000  \n",
       "50%        39.000000  100057.000000      52.000000  \n",
       "75%       167.000000  100084.000000      91.000000  \n",
       "max      1839.000000  100248.000000     253.000000  "
      ]
     },
     "execution_count": 4,
     "metadata": {},
     "output_type": "execute_result"
    }
   ],
   "source": [
    "data.describe()"
   ]
  },
  {
   "cell_type": "markdown",
   "metadata": {},
   "source": [
    "# Evaluation Metric"
   ]
  },
  {
   "cell_type": "markdown",
   "metadata": {},
   "source": [
    "**Choosing log-loss as the evaluation metric:**\n",
    "\n",
    "Since no evaluation metric was given for this problem, one must be defined before modeling in order to evaluate performance. Seeing as how the desired output is a probability and not a binary class, the best choice for the evaluation metric is one that is threshold independent. Additionally, to take into account the confidence of each prediction, log-loss seems like the best method to proceed. \n",
    "\n",
    "For this problem, **the goal will be to minimize log-loss**"
   ]
  },
  {
   "cell_type": "markdown",
   "metadata": {},
   "source": [
    "# EDA "
   ]
  },
  {
   "cell_type": "markdown",
   "metadata": {},
   "source": [
    "Let's look at a few plots to get a sense of the data. "
   ]
  },
  {
   "cell_type": "markdown",
   "metadata": {},
   "source": [
    "## Clicks"
   ]
  },
  {
   "cell_type": "code",
   "execution_count": 5,
   "metadata": {
    "ExecuteTime": {
     "end_time": "2019-05-20T00:16:25.217406Z",
     "start_time": "2019-05-20T00:16:25.053176Z"
    }
   },
   "outputs": [
    {
     "data": {
      "image/png": "[encoded data removed]",
      "text/plain": [
       "<Figure size 432x288 with 1 Axes>"
      ]
     },
     "metadata": {
      "needs_background": "light"
     },
     "output_type": "display_data"
    }
   ],
   "source": [
    "clicks = data.click.value_counts()\n",
    "\n",
    "plt.bar(x=clicks.index, height=clicks.values)\n",
    "plt.xticks(clicks.index, ('0', '1'))\n",
    "plt.show()"
   ]
  },
  {
   "cell_type": "markdown",
   "metadata": {},
   "source": [
    "The data is a bit unbalanced, depending on results, some oversampling could be helpful. "
   ]
  },
  {
   "cell_type": "markdown",
   "metadata": {},
   "source": [
    "## Banner Position"
   ]
  },
  {
   "cell_type": "code",
   "execution_count": 6,
   "metadata": {
    "ExecuteTime": {
     "end_time": "2019-05-20T00:16:25.532283Z",
     "start_time": "2019-05-20T00:16:25.220365Z"
    }
   },
   "outputs": [
    {
     "data": {
      "image/png": "[encoded data removed]",
      "text/plain": [
       "<Figure size 432x288 with 1 Axes>"
      ]
     },
     "metadata": {
      "needs_background": "light"
     },
     "output_type": "display_data"
    }
   ],
   "source": [
    " ax = sns.countplot(x=\"banner_pos\", hue=\"click\", data=data)"
   ]
  },
  {
   "cell_type": "markdown",
   "metadata": {},
   "source": [
    "There are only two major banner positions, the other 5 are negligible. "
   ]
  },
  {
   "cell_type": "markdown",
   "metadata": {},
   "source": [
    "## Hour "
   ]
  },
  {
   "cell_type": "code",
   "execution_count": 7,
   "metadata": {
    "ExecuteTime": {
     "end_time": "2019-05-20T00:16:26.164046Z",
     "start_time": "2019-05-20T00:16:25.534270Z"
    }
   },
   "outputs": [],
   "source": [
    "data['24hr'] = data.hour.apply(lambda x: int(str(x)[-2:]))"
   ]
  },
  {
   "cell_type": "code",
   "execution_count": 8,
   "metadata": {
    "ExecuteTime": {
     "end_time": "2019-05-20T00:16:26.558820Z",
     "start_time": "2019-05-20T00:16:26.165945Z"
    }
   },
   "outputs": [
    {
     "data": {
      "image/png": "[encoded data removed]",
      "text/plain": [
       "<Figure size 432x288 with 1 Axes>"
      ]
     },
     "metadata": {
      "needs_background": "light"
     },
     "output_type": "display_data"
    }
   ],
   "source": [
    "ax = sns.countplot(x=\"24hr\", hue=\"click\", data=data)"
   ]
  },
  {
   "cell_type": "markdown",
   "metadata": {},
   "source": [
    "CTR pattern seems to be consistent throughout the hours. "
   ]
  },
  {
   "cell_type": "markdown",
   "metadata": {},
   "source": [
    "## Device Type "
   ]
  },
  {
   "cell_type": "code",
   "execution_count": 9,
   "metadata": {
    "ExecuteTime": {
     "end_time": "2019-05-20T00:16:26.851970Z",
     "start_time": "2019-05-20T00:16:26.560914Z"
    }
   },
   "outputs": [
    {
     "data": {
      "image/png": "[encoded data removed]",
      "text/plain": [
       "<Figure size 432x288 with 1 Axes>"
      ]
     },
     "metadata": {
      "needs_background": "light"
     },
     "output_type": "display_data"
    }
   ],
   "source": [
    "ax = sns.countplot(x=\"device_type\", hue=\"click\", data=data)"
   ]
  },
  {
   "cell_type": "markdown",
   "metadata": {},
   "source": [
    "## Device Connection Type"
   ]
  },
  {
   "cell_type": "code",
   "execution_count": 10,
   "metadata": {
    "ExecuteTime": {
     "end_time": "2019-05-20T00:16:27.132007Z",
     "start_time": "2019-05-20T00:16:26.853722Z"
    }
   },
   "outputs": [
    {
     "data": {
      "image/png": "[encoded data removed]",
      "text/plain": [
       "<Figure size 432x288 with 1 Axes>"
      ]
     },
     "metadata": {
      "needs_background": "light"
     },
     "output_type": "display_data"
    }
   ],
   "source": [
    "ax = sns.countplot(x=\"device_conn_type\", hue=\"click\", data=data)"
   ]
  },
  {
   "cell_type": "markdown",
   "metadata": {},
   "source": [
    "# Train / Test Split\n",
    "\n",
    "Before any modeling or feature engineering is done, a 90/10 train and validation split will be used to evaluate model performance. A 90/10 split was chosen instead of the traditional 80/20 due to the fairly large number of samples available. "
   ]
  },
  {
   "cell_type": "code",
   "execution_count": 11,
   "metadata": {
    "ExecuteTime": {
     "end_time": "2019-05-20T00:16:27.825952Z",
     "start_time": "2019-05-20T00:16:27.134246Z"
    }
   },
   "outputs": [],
   "source": [
    "# 90/10 train test split\n",
    "data_train, data_test = train_test_split(data, test_size=0.10)"
   ]
  },
  {
   "cell_type": "markdown",
   "metadata": {},
   "source": [
    "# Feature Engineering"
   ]
  },
  {
   "cell_type": "markdown",
   "metadata": {},
   "source": [
    "## Encode Categorical Columns to Numerical"
   ]
  },
  {
   "cell_type": "markdown",
   "metadata": {},
   "source": [
    "All columns are categorical, let's encode them using the **weight of evidence approach**: \n",
    "\n",
    "$$v_{i} = log(\\frac{\\frac{p_{i}}{p}}{\\frac{n_{i}}{n}})$$\n",
    "\n",
    "where: \n",
    "* $p_{i}$ - number of positive instances attributed to categorical value \n",
    "* $p$ - number of positive instances \n",
    "* $n_{i}$ - number of negative instances attributed to categorical value \n",
    "* $n$ - number of negative instances "
   ]
  },
  {
   "cell_type": "code",
   "execution_count": 12,
   "metadata": {
    "ExecuteTime": {
     "end_time": "2019-05-20T00:16:27.833427Z",
     "start_time": "2019-05-20T00:16:27.828561Z"
    }
   },
   "outputs": [
    {
     "name": "stdout",
     "output_type": "stream",
     "text": [
      "There are 23 categorical columns\n"
     ]
    }
   ],
   "source": [
    "categorical_variables = list(data_train.columns[2:])\n",
    "print(f'There are {len(categorical_variables)} categorical columns')"
   ]
  },
  {
   "cell_type": "code",
   "execution_count": 13,
   "metadata": {
    "ExecuteTime": {
     "end_time": "2019-05-20T00:16:46.666873Z",
     "start_time": "2019-05-20T00:16:27.836191Z"
    },
    "code_folding": []
   },
   "outputs": [],
   "source": [
    "def woe_encoding(data_train, data_test, categorical_variables):\n",
    "    '''\n",
    "    Calculates weight of evidence encoding (woe) for categorical variables \n",
    "    Inputs:\n",
    "        - df_train: training DataFrame to fit and transform encoding mapping \n",
    "        - df_test: test DataFrame to be transformed by encoding mapping \n",
    "        - categorical_variables: list of variables to transform from DataFrames \n",
    "    Outputs:\n",
    "        - df_train: transformed DataFrame with woe encodings \n",
    "        - df_test: transformed DataFrame with woe encodings \n",
    "    '''\n",
    "    # to get rid of SettingWithCopy warning \n",
    "    df_train = data_train.copy()\n",
    "    df_test = data_test.copy()\n",
    "    \n",
    "    p = sum(df_train.click == 1)\n",
    "    n = sum(df_train.click == 0)\n",
    "    \n",
    "    for cat in categorical_variables:\n",
    "        # create dataframe with number of positives per unique value\n",
    "        woe_df = df_train.groupby(by=cat, as_index=False).sum()[[cat, 'click']]\n",
    "        woe_df.rename(columns={'click': 'sum'}, inplace=True)\n",
    "        # merge dataframe with number of negatives per unique value\n",
    "        count = df_train.groupby(by=cat, as_index=False).count()[[cat, 'click']]\n",
    "        woe_df = woe_df.merge(count, how='left', on=cat)\n",
    "        woe_df.rename(columns={'click': 'count'}, inplace=True)\n",
    "        # calculate weight of evidence\n",
    "        woe_df['woe'] = np.log((woe_df['sum'] / p) /\n",
    "                               ((woe_df['count'] - woe_df['sum'])/ n + 1e-5) + 1e-5)\n",
    "        # map categorical value to numerical encoding\n",
    "        df_train.loc[:,cat] = df_train[cat].map(\n",
    "            woe_df.set_index(keys=cat)['woe']).round(decimals=4)\n",
    "        # apply same mapping based on training to test\n",
    "        df_test.loc[:,cat] = df_test[cat].map(\n",
    "            (woe_df.set_index(keys=cat)['woe'])).round(decimals=4)\n",
    "        # there may be some nans if the test set does not have the value, let's fill it with the mean\n",
    "        df_test[cat].fillna(value=woe_df['woe'].mean(), inplace=True)\n",
    "    return df_train, df_test \n",
    "\n",
    "data_train, data_test = woe_encoding(data_train, data_test, categorical_variables)"
   ]
  },
  {
   "cell_type": "markdown",
   "metadata": {},
   "source": [
    "Create X and Y for modeling:"
   ]
  },
  {
   "cell_type": "code",
   "execution_count": 14,
   "metadata": {
    "ExecuteTime": {
     "end_time": "2019-05-20T00:16:46.903914Z",
     "start_time": "2019-05-20T00:16:46.668646Z"
    }
   },
   "outputs": [],
   "source": [
    "x_train = data_train.drop(columns=['click', 'id'])\n",
    "y_train = data_train.click\n",
    "x_test = data_test.drop(columns=['click', 'id'])\n",
    "y_test = data_test.click"
   ]
  },
  {
   "cell_type": "markdown",
   "metadata": {},
   "source": [
    "# Feature Selection"
   ]
  },
  {
   "cell_type": "markdown",
   "metadata": {},
   "source": [
    "Let's use the logistic regression model as a quick and data feature selector. This is naive in the sense that it doesn't not account for possible interaction effects, but it's quick:"
   ]
  },
  {
   "cell_type": "code",
   "execution_count": 15,
   "metadata": {
    "ExecuteTime": {
     "end_time": "2019-05-20T00:16:56.893839Z",
     "start_time": "2019-05-20T00:16:46.905762Z"
    }
   },
   "outputs": [],
   "source": [
    "# calculate test set loss for each feature\n",
    "losses = []\n",
    "for cols in x_train.columns:\n",
    "    lr = LogisticRegression(solver='lbfgs').fit(\n",
    "        x_train[cols].values.reshape(-1, 1), y_train)\n",
    "    probs = lr.predict_proba(x_test[cols].values.reshape(-1, 1))\n",
    "    losses.append(log_loss(y_test.values, probs))"
   ]
  },
  {
   "cell_type": "markdown",
   "metadata": {},
   "source": [
    "Ranking each feature based on log-loss from single feature logistic regression model:"
   ]
  },
  {
   "cell_type": "code",
   "execution_count": 16,
   "metadata": {
    "ExecuteTime": {
     "end_time": "2019-05-20T00:16:56.905766Z",
     "start_time": "2019-05-20T00:16:56.895470Z"
    }
   },
   "outputs": [
    {
     "data": {
      "text/html": [
       "<div>\n",
       "<style scoped>\n",
       "    .dataframe tbody tr th:only-of-type {\n",
       "        vertical-align: middle;\n",
       "    }\n",
       "\n",
       "    .dataframe tbody tr th {\n",
       "        vertical-align: top;\n",
       "    }\n",
       "\n",
       "    .dataframe thead th {\n",
       "        text-align: right;\n",
       "    }\n",
       "</style>\n",
       "<table border=\"1\" class=\"dataframe\">\n",
       "  <thead>\n",
       "    <tr style=\"text-align: right;\">\n",
       "      <th></th>\n",
       "      <th>features</th>\n",
       "      <th>loss</th>\n",
       "    </tr>\n",
       "  </thead>\n",
       "  <tbody>\n",
       "    <tr>\n",
       "      <th>17</th>\n",
       "      <td>C17</td>\n",
       "      <td>0.421437</td>\n",
       "    </tr>\n",
       "    <tr>\n",
       "      <th>14</th>\n",
       "      <td>C14</td>\n",
       "      <td>0.422610</td>\n",
       "    </tr>\n",
       "    <tr>\n",
       "      <th>3</th>\n",
       "      <td>site_id</td>\n",
       "      <td>0.424148</td>\n",
       "    </tr>\n",
       "    <tr>\n",
       "      <th>4</th>\n",
       "      <td>site_domain</td>\n",
       "      <td>0.428346</td>\n",
       "    </tr>\n",
       "    <tr>\n",
       "      <th>21</th>\n",
       "      <td>C21</td>\n",
       "      <td>0.435873</td>\n",
       "    </tr>\n",
       "    <tr>\n",
       "      <th>6</th>\n",
       "      <td>app_id</td>\n",
       "      <td>0.439593</td>\n",
       "    </tr>\n",
       "    <tr>\n",
       "      <th>19</th>\n",
       "      <td>C19</td>\n",
       "      <td>0.441048</td>\n",
       "    </tr>\n",
       "    <tr>\n",
       "      <th>18</th>\n",
       "      <td>C18</td>\n",
       "      <td>0.441388</td>\n",
       "    </tr>\n",
       "    <tr>\n",
       "      <th>7</th>\n",
       "      <td>app_domain</td>\n",
       "      <td>0.445379</td>\n",
       "    </tr>\n",
       "    <tr>\n",
       "      <th>20</th>\n",
       "      <td>C20</td>\n",
       "      <td>0.447342</td>\n",
       "    </tr>\n",
       "    <tr>\n",
       "      <th>16</th>\n",
       "      <td>C16</td>\n",
       "      <td>0.448209</td>\n",
       "    </tr>\n",
       "    <tr>\n",
       "      <th>11</th>\n",
       "      <td>device_model</td>\n",
       "      <td>0.449598</td>\n",
       "    </tr>\n",
       "    <tr>\n",
       "      <th>8</th>\n",
       "      <td>app_category</td>\n",
       "      <td>0.449656</td>\n",
       "    </tr>\n",
       "    <tr>\n",
       "      <th>5</th>\n",
       "      <td>site_category</td>\n",
       "      <td>0.449716</td>\n",
       "    </tr>\n",
       "    <tr>\n",
       "      <th>15</th>\n",
       "      <td>C15</td>\n",
       "      <td>0.449869</td>\n",
       "    </tr>\n",
       "    <tr>\n",
       "      <th>13</th>\n",
       "      <td>device_conn_type</td>\n",
       "      <td>0.452124</td>\n",
       "    </tr>\n",
       "    <tr>\n",
       "      <th>1</th>\n",
       "      <td>C1</td>\n",
       "      <td>0.455994</td>\n",
       "    </tr>\n",
       "    <tr>\n",
       "      <th>0</th>\n",
       "      <td>hour</td>\n",
       "      <td>0.456034</td>\n",
       "    </tr>\n",
       "    <tr>\n",
       "      <th>12</th>\n",
       "      <td>device_type</td>\n",
       "      <td>0.456239</td>\n",
       "    </tr>\n",
       "    <tr>\n",
       "      <th>2</th>\n",
       "      <td>banner_pos</td>\n",
       "      <td>0.456781</td>\n",
       "    </tr>\n",
       "    <tr>\n",
       "      <th>22</th>\n",
       "      <td>24hr</td>\n",
       "      <td>0.457024</td>\n",
       "    </tr>\n",
       "    <tr>\n",
       "      <th>9</th>\n",
       "      <td>device_id</td>\n",
       "      <td>0.531710</td>\n",
       "    </tr>\n",
       "    <tr>\n",
       "      <th>10</th>\n",
       "      <td>device_ip</td>\n",
       "      <td>0.719841</td>\n",
       "    </tr>\n",
       "  </tbody>\n",
       "</table>\n",
       "</div>"
      ],
      "text/plain": [
       "            features      loss\n",
       "17               C17  0.421437\n",
       "14               C14  0.422610\n",
       "3            site_id  0.424148\n",
       "4        site_domain  0.428346\n",
       "21               C21  0.435873\n",
       "6             app_id  0.439593\n",
       "19               C19  0.441048\n",
       "18               C18  0.441388\n",
       "7         app_domain  0.445379\n",
       "20               C20  0.447342\n",
       "16               C16  0.448209\n",
       "11      device_model  0.449598\n",
       "8       app_category  0.449656\n",
       "5      site_category  0.449716\n",
       "15               C15  0.449869\n",
       "13  device_conn_type  0.452124\n",
       "1                 C1  0.455994\n",
       "0               hour  0.456034\n",
       "12       device_type  0.456239\n",
       "2         banner_pos  0.456781\n",
       "22              24hr  0.457024\n",
       "9          device_id  0.531710\n",
       "10         device_ip  0.719841"
      ]
     },
     "execution_count": 16,
     "metadata": {},
     "output_type": "execute_result"
    }
   ],
   "source": [
    "ranked_features = pd.DataFrame(\n",
    "    {'features': list(x_train.columns), 'loss': losses}).sort_values(by='loss')\n",
    "ranked_features"
   ]
  },
  {
   "cell_type": "markdown",
   "metadata": {},
   "source": [
    "# Models"
   ]
  },
  {
   "cell_type": "markdown",
   "metadata": {},
   "source": [
    "4 models were used to predict class probabilities: \n",
    "\n",
    "* Logistic Regression\n",
    "* Gradient Boosting \n",
    "* Random Forest \n",
    "* Voting Classifier (Ensemble of the 3 above) "
   ]
  },
  {
   "cell_type": "markdown",
   "metadata": {},
   "source": [
    "## Logistic Regression"
   ]
  },
  {
   "cell_type": "code",
   "execution_count": 17,
   "metadata": {
    "ExecuteTime": {
     "end_time": "2019-05-20T00:17:48.581460Z",
     "start_time": "2019-05-20T00:16:56.911175Z"
    }
   },
   "outputs": [],
   "source": [
    "lr_loss_train = []\n",
    "lr_loss_test = []\n",
    "\n",
    "# test base model in order of ranked features \n",
    "for idx in range(len(ranked_features)):\n",
    "    features = list(ranked_features['features'])[0:idx+1]\n",
    "    # previous runs showed overfitting, set C value to 0.5 for stronger penalty\n",
    "    lr = LogisticRegression(solver='lbfgs', max_iter=1000, C=.5).fit(\n",
    "        x_train[features], y_train)\n",
    "    # train loss \n",
    "    probs_train = lr.predict_proba(x_train[features])\n",
    "    lr_loss_train.append(log_loss(y_train.values, probs_train))\n",
    "    # test loss \n",
    "    probs_test = lr.predict_proba(x_test[features])\n",
    "    lr_loss_test.append(log_loss(y_test.values, probs_test))"
   ]
  },
  {
   "cell_type": "markdown",
   "metadata": {},
   "source": [
    "Plotting training and test loss across features:"
   ]
  },
  {
   "cell_type": "code",
   "execution_count": 18,
   "metadata": {
    "ExecuteTime": {
     "end_time": "2019-05-20T00:17:48.762226Z",
     "start_time": "2019-05-20T00:17:48.583683Z"
    }
   },
   "outputs": [
    {
     "data": {
      "image/png": "[encoded data removed]",
      "text/plain": [
       "<Figure size 432x288 with 1 Axes>"
      ]
     },
     "metadata": {
      "needs_background": "light"
     },
     "output_type": "display_data"
    }
   ],
   "source": [
    "plt.plot(list(range(1,len(ranked_features)+1)),lr_loss_train, color='blue', label='train')\n",
    "plt.plot(list(range(1,len(ranked_features)+1)),lr_loss_test, color='red', label='test')\n",
    "plt.legend()\n",
    "plt.title('Log-loss vs Num Features')\n",
    "plt.show()"
   ]
  },
  {
   "cell_type": "markdown",
   "metadata": {},
   "source": [
    "The best Logistic regression model is with the top 6 ranked features. The test loss is lowest at 6 features with a small gap between train and test loss. "
   ]
  },
  {
   "cell_type": "code",
   "execution_count": 19,
   "metadata": {
    "ExecuteTime": {
     "end_time": "2019-05-20T00:17:49.953731Z",
     "start_time": "2019-05-20T00:17:48.764473Z"
    }
   },
   "outputs": [],
   "source": [
    "# best logistic regression model\n",
    "lr_features = list(ranked_features['features'])[0:6]\n",
    "best_lr = LogisticRegression(solver='lbfgs', max_iter=1000, C=.5).fit(\n",
    "        x_train[lr_features], y_train)"
   ]
  },
  {
   "cell_type": "code",
   "execution_count": 20,
   "metadata": {
    "ExecuteTime": {
     "end_time": "2019-05-20T00:17:50.194753Z",
     "start_time": "2019-05-20T00:17:49.956245Z"
    }
   },
   "outputs": [
    {
     "name": "stdout",
     "output_type": "stream",
     "text": [
      "Final LR train log loss 0.4007\n",
      "Final LR test log loss 0.4110\n"
     ]
    }
   ],
   "source": [
    "# train loss \n",
    "probs_train = best_lr.predict_proba(x_train[lr_features])\n",
    "print(f'Final LR train log loss {log_loss(y_train.values, probs_train):.4f}')\n",
    "# test loss \n",
    "probs_test = best_lr.predict_proba(x_test[lr_features])\n",
    "print(f'Final LR test log loss {log_loss(y_test.values, probs_test):.4f}')"
   ]
  },
  {
   "cell_type": "markdown",
   "metadata": {},
   "source": [
    "## Gradient Boosting "
   ]
  },
  {
   "cell_type": "markdown",
   "metadata": {},
   "source": [
    "Let's try the Gradient Boosting model. A few things to curb overfitting: \n",
    "* `learning_rate` set to 0.01 \n",
    "* `n_estimators` set to 200"
   ]
  },
  {
   "cell_type": "code",
   "execution_count": 21,
   "metadata": {
    "ExecuteTime": {
     "end_time": "2019-05-20T01:01:42.111442Z",
     "start_time": "2019-05-20T00:17:50.197212Z"
    }
   },
   "outputs": [],
   "source": [
    "xgb_loss_train = []\n",
    "xgb_loss_test = []\n",
    "\n",
    "# test base model in order of ranked features\n",
    "for idx in range(15):\n",
    "    features = list(ranked_features['features'])[0:idx+1]\n",
    "    # learning rate 0.01 and n_estimators 200 chosen because previous iterations \n",
    "    # showed overfitting \n",
    "    xgb = GradientBoostingClassifier(\n",
    "        learning_rate=0.01, n_estimators=200).fit(x_train[features], y_train)\n",
    "    # train loss\n",
    "    probs_train = xgb.predict_proba(x_train[features].values)\n",
    "    xgb_loss_train.append(log_loss(y_train.values, probs_train))\n",
    "    # test loss\n",
    "    probs_test = xgb.predict_proba(x_test[features].values)\n",
    "    xgb_loss_test.append(log_loss(y_test.values, probs_test))"
   ]
  },
  {
   "cell_type": "code",
   "execution_count": 22,
   "metadata": {
    "ExecuteTime": {
     "end_time": "2019-05-20T01:01:42.284373Z",
     "start_time": "2019-05-20T01:01:42.113198Z"
    }
   },
   "outputs": [
    {
     "data": {
      "image/png": "[encoded data removed]",
      "text/plain": [
       "<Figure size 432x288 with 1 Axes>"
      ]
     },
     "metadata": {
      "needs_background": "light"
     },
     "output_type": "display_data"
    }
   ],
   "source": [
    "plt.plot(list(range(1,16)),xgb_loss_train, color='blue', label='train')\n",
    "plt.plot(list(range(1,16)),xgb_loss_test, color='red', label='test')\n",
    "plt.title('Log-loss vs Num Features')\n",
    "plt.legend()\n",
    "plt.show()"
   ]
  },
  {
   "cell_type": "markdown",
   "metadata": {},
   "source": [
    "Let's use the XGB model with 6 features. Training and test loss is constant between 6-11 features, but the difference between training and test loss increases with 12+ features. 6 features is the simplest model with a reasonable bias and variance. "
   ]
  },
  {
   "cell_type": "code",
   "execution_count": 23,
   "metadata": {
    "ExecuteTime": {
     "end_time": "2019-05-20T01:04:05.490668Z",
     "start_time": "2019-05-20T01:01:42.286171Z"
    }
   },
   "outputs": [],
   "source": [
    "# best xgb model\n",
    "xgb_features = list(ranked_features['features'])[0:6]\n",
    "best_xgb = GradientBoostingClassifier(learning_rate=0.01, n_estimators=200).fit(\n",
    "    x_train[xgb_features].values, y_train)"
   ]
  },
  {
   "cell_type": "code",
   "execution_count": 24,
   "metadata": {
    "ExecuteTime": {
     "end_time": "2019-05-20T01:04:08.299726Z",
     "start_time": "2019-05-20T01:04:05.492491Z"
    }
   },
   "outputs": [
    {
     "name": "stdout",
     "output_type": "stream",
     "text": [
      "Final XGB train log loss 0.4038\n",
      "Final XGB test log loss 0.4060\n"
     ]
    }
   ],
   "source": [
    "# train loss \n",
    "probs_train = best_xgb.predict_proba(x_train[xgb_features].values)\n",
    "print(f'Final XGB train log loss {log_loss(y_train.values, probs_train):.4f}')\n",
    "# test loss \n",
    "probs_test = best_xgb.predict_proba(x_test[xgb_features].values)\n",
    "print(f'Final XGB test log loss {log_loss(y_test.values, probs_test):.4f}')"
   ]
  },
  {
   "cell_type": "markdown",
   "metadata": {},
   "source": [
    "## Random Forest"
   ]
  },
  {
   "cell_type": "markdown",
   "metadata": {},
   "source": [
    "Random Forest model with `max_depth` set to 5 and `n_estimators` set to 100, previous iterations showed issue of overfitting"
   ]
  },
  {
   "cell_type": "code",
   "execution_count": 35,
   "metadata": {
    "ExecuteTime": {
     "end_time": "2019-05-20T01:46:51.024377Z",
     "start_time": "2019-05-20T01:29:38.535109Z"
    }
   },
   "outputs": [],
   "source": [
    "rf_loss_train = []\n",
    "rf_loss_test = []\n",
    "\n",
    "for idx in range(15):\n",
    "    features = list(ranked_features['features'])[0:idx+1]\n",
    "    # max_depth set to 5\n",
    "    rf = RandomForestClassifier(n_estimators=100, max_depth = 5)\n",
    "    rf.fit(x_train[features], y_train)\n",
    "    # train loss \n",
    "    probs_train = rf.predict_proba(x_train[features].values)\n",
    "    rf_loss_train.append(log_loss(y_train.values, probs_train))\n",
    "    # test loss \n",
    "    probs_test = rf.predict_proba(x_test[features].values)\n",
    "    rf_loss_test.append(log_loss(y_test.values, probs_test))"
   ]
  },
  {
   "cell_type": "code",
   "execution_count": 36,
   "metadata": {
    "ExecuteTime": {
     "end_time": "2019-05-20T01:46:51.170571Z",
     "start_time": "2019-05-20T01:46:51.026373Z"
    }
   },
   "outputs": [
    {
     "data": {
      "image/png": "[encoded data removed]",
      "text/plain": [
       "<Figure size 432x288 with 1 Axes>"
      ]
     },
     "metadata": {
      "needs_background": "light"
     },
     "output_type": "display_data"
    }
   ],
   "source": [
    "plt.plot(list(range(1,16)),rf_loss_train, color='blue', label='train')\n",
    "plt.plot(list(range(1,16)),rf_loss_test, color='red', label='test')\n",
    "plt.title('Log-loss vs Num Features')\n",
    "plt.legend()\n",
    "plt.show()"
   ]
  },
  {
   "cell_type": "markdown",
   "metadata": {},
   "source": [
    "The best Random Forest model is with the top 6 ranked features."
   ]
  },
  {
   "cell_type": "code",
   "execution_count": 37,
   "metadata": {
    "ExecuteTime": {
     "end_time": "2019-05-20T01:49:27.312113Z",
     "start_time": "2019-05-20T01:48:25.372471Z"
    }
   },
   "outputs": [],
   "source": [
    "# best rf model\n",
    "rf_features = list(ranked_features['features'])[0:6]\n",
    "best_rf = RandomForestClassifier(n_estimators=100, max_depth = 5).fit(\n",
    "    x_train[rf_features].values, y_train)"
   ]
  },
  {
   "cell_type": "code",
   "execution_count": 38,
   "metadata": {
    "ExecuteTime": {
     "end_time": "2019-05-20T01:49:33.697777Z",
     "start_time": "2019-05-20T01:49:27.314852Z"
    }
   },
   "outputs": [
    {
     "name": "stdout",
     "output_type": "stream",
     "text": [
      "Final RF train log loss 0.4016\n",
      "Final RF test log loss 0.4041\n"
     ]
    }
   ],
   "source": [
    "# train loss \n",
    "probs_train = best_rf.predict_proba(x_train[rf_features].values)\n",
    "print(f'Final RF train log loss {log_loss(y_train.values, probs_train):.4f}')\n",
    "# test loss \n",
    "probs_test = best_rf.predict_proba(x_test[rf_features].values)\n",
    "print(f'Final RF test log loss {log_loss(y_test.values, probs_test):.4f}')"
   ]
  },
  {
   "cell_type": "markdown",
   "metadata": {},
   "source": [
    "## Voting Classifier"
   ]
  },
  {
   "cell_type": "markdown",
   "metadata": {},
   "source": [
    "Voting Classifier with Logistic Regression, Gradient Boosting, and Random Forest models. Due to the differences in training data for each model, a custom voting classifier is used which takes an average of the predicted probabilities: "
   ]
  },
  {
   "cell_type": "code",
   "execution_count": 39,
   "metadata": {
    "ExecuteTime": {
     "end_time": "2019-05-20T01:51:58.915540Z",
     "start_time": "2019-05-20T01:51:49.757237Z"
    }
   },
   "outputs": [
    {
     "name": "stdout",
     "output_type": "stream",
     "text": [
      "Voting classifier training loss is 0.4010\n",
      "Voting classifier val loss is 0.4040\n"
     ]
    }
   ],
   "source": [
    "models = [best_lr, best_xgb, best_rf]\n",
    "features = [lr_features, xgb_features, rf_features]\n",
    "weights = [1/3, 1/3, 1/3]\n",
    "\n",
    "vc_train_probs = np.zeros((len(x_train),2))\n",
    "vc_test_probs = np.zeros((len(x_test),2))\n",
    "\n",
    "# calculate average train / test probabilities and final losses \n",
    "for idx in range(len(models)):\n",
    "    vc_train_probs += weights[idx]*models[idx].predict_proba(x_train[features[idx]].values)\n",
    "    vc_test_probs += weights[idx]*models[idx].predict_proba(x_test[features[idx]].values)\n",
    "\n",
    "vc_loss_train = log_loss(y_train.values, vc_train_probs)\n",
    "vc_loss_test = log_loss(y_test.values, vc_test_probs)\n",
    "\n",
    "print(f'Voting classifier training loss is {vc_loss_train:.4f}')\n",
    "print(f'Voting classifier val loss is {vc_loss_test:.4f}')"
   ]
  },
  {
   "cell_type": "markdown",
   "metadata": {},
   "source": [
    "# Conclusion"
   ]
  },
  {
   "cell_type": "markdown",
   "metadata": {},
   "source": [
    "Four different models were used: \n",
    "* Logistic Regression\n",
    "* Gradient Boosting \n",
    "* Random Forest \n",
    "* Voting Classifier \n",
    "\n",
    "The **voting classifier** model is the best model with: \n",
    "* Training Log-loss: 0.4010\n",
    "* Test Log-loss: 0.4040\n",
    "\n",
    "Some areas that could be improved:\n",
    "* Feature engineering - different methods of encoding could be tested, additional features could have been engineered \n",
    "* Hyper-parameter tuning - not much hyper-parameter tuning was done, this could be an area of improvement \n",
    "* Trying more models - try different classifiers and add them to the ensemble model for better performance \n",
    "* Data cleaning - checking for and removing outliers "
   ]
  },
  {
   "cell_type": "markdown",
   "metadata": {},
   "source": [
    "# Final Predictions"
   ]
  },
  {
   "cell_type": "markdown",
   "metadata": {},
   "source": [
    "For final predictions, we'll use all of the data to train the models within the voting classifier:"
   ]
  },
  {
   "cell_type": "markdown",
   "metadata": {},
   "source": [
    "First, we need to load the final test data and perform the same alterations as we did in the train set:"
   ]
  },
  {
   "cell_type": "code",
   "execution_count": 40,
   "metadata": {
    "ExecuteTime": {
     "end_time": "2019-05-20T01:52:38.453719Z",
     "start_time": "2019-05-20T01:52:20.884729Z"
    }
   },
   "outputs": [],
   "source": [
    "# load data and rename columns to match \n",
    "data_test_final = pd.read_csv('data/sampled_test', header=None)\n",
    "column_names = list(data.columns)[:-1]\n",
    "column_names.pop(1)\n",
    "column_mapping = {i:column_names[i] for i in range(len(column_names))}\n",
    "data_test_final.rename(columns=column_mapping, inplace=True)\n",
    "\n",
    "# create 24 hr column \n",
    "data_test_final['24hr'] = data_test_final.hour.apply(lambda x: int(str(x)[-2:]))\n",
    "\n",
    "# create encodings for full training set and final test set \n",
    "data_train_final, data_test_final = woe_encoding(data, data_test_final, categorical_variables)"
   ]
  },
  {
   "cell_type": "markdown",
   "metadata": {},
   "source": [
    "Re-training the best models with the entire training data:"
   ]
  },
  {
   "cell_type": "code",
   "execution_count": null,
   "metadata": {
    "ExecuteTime": {
     "start_time": "2019-05-20T01:52:47.558Z"
    }
   },
   "outputs": [],
   "source": [
    "# final logistic regression model\n",
    "lr_final = LogisticRegression(solver='lbfgs', max_iter=1000, C=.5).fit(\n",
    "        data_train_final[lr_features], data_train_final.click.values)\n",
    "\n",
    "# final xgb model\n",
    "xgb_final = GradientBoostingClassifier(learning_rate=0.01, n_estimators=200).fit(\n",
    "    data_train_final[xgb_features].values, data_train_final.click.values)\n",
    "\n",
    "# final rf model\n",
    "rf_final = RandomForestClassifier(n_estimators=100, max_depth = 5).fit(\n",
    "    data_train_final[rf_features].values, data_train_final.click.values)"
   ]
  },
  {
   "cell_type": "markdown",
   "metadata": {},
   "source": [
    "Running final voting classifier:"
   ]
  },
  {
   "cell_type": "code",
   "execution_count": null,
   "metadata": {
    "ExecuteTime": {
     "start_time": "2019-05-20T01:53:27.869Z"
    }
   },
   "outputs": [],
   "source": [
    "models = [lr_final, xgb_final, rf_final]\n",
    "\n",
    "vc_train_probs = np.zeros((len(data_train_final),2))\n",
    "vc_test_probs = np.zeros((len(data_test_final),2))\n",
    "\n",
    "# calculate average train / test probabilities and final losses \n",
    "for idx in range(len(models)):\n",
    "    vc_train_probs += weights[idx]*models[idx].predict_proba(data_train_final[features[idx]].values)\n",
    "    vc_test_probs += weights[idx]*models[idx].predict_proba(data_test_final[features[idx]].values)\n",
    "    \n",
    "vc_loss_train = log_loss(data_train_final.click.values, vc_train_probs)    \n",
    "\n",
    "print(f'Final training loss: {vc_loss_train:.4}')"
   ]
  },
  {
   "cell_type": "markdown",
   "metadata": {},
   "source": [
    "**Saving final predictions:**"
   ]
  },
  {
   "cell_type": "code",
   "execution_count": null,
   "metadata": {
    "ExecuteTime": {
     "start_time": "2019-05-20T01:53:28.901Z"
    }
   },
   "outputs": [],
   "source": [
    "np.savetxt(\"final_ctr_predictions.csv\", vc_test_probs, delimiter=',')"
   ]
  }
 ],
 "metadata": {
  "kernelspec": {
   "display_name": "Python (conda3)",
   "language": "python",
   "name": "anaconda3"
  },
  "language_info": {
   "codemirror_mode": {
    "name": "ipython",
    "version": 3
   },
   "file_extension": ".py",
   "mimetype": "text/x-python",
   "name": "python",
   "nbconvert_exporter": "python",
   "pygments_lexer": "ipython3",
   "version": "3.7.2"
  },
  "toc": {
   "base_numbering": 1,
   "nav_menu": {},
   "number_sections": true,
   "sideBar": true,
   "skip_h1_title": false,
   "title_cell": "Table of Contents",
   "title_sidebar": "Contents",
   "toc_cell": false,
   "toc_position": {},
   "toc_section_display": true,
   "toc_window_display": true
  }
 },
 "nbformat": 4,
 "nbformat_minor": 2
}
